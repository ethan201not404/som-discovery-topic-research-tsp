{
 "cells": [
  {
   "cell_type": "code",
   "execution_count": 18,
   "id": "9d6ec6d6-28c9-4614-8811-b4b202f995aa",
   "metadata": {
    "tags": []
   },
   "outputs": [],
   "source": [
    "from manim import *\n",
    "\n",
    "config.media_width = \"75%\"\n",
    "config.verbosity = \"WARNING\""
   ]
  },
  {
   "cell_type": "code",
   "execution_count": 21,
   "id": "6c8f6ee2-647f-4c59-b995-a62db09d2e1c",
   "metadata": {},
   "outputs": [
    {
     "name": "stderr",
     "output_type": "stream",
     "text": [
      "                                                                                \r"
     ]
    },
    {
     "data": {
      "text/html": [
       "<video src=\"media/jupyter/AnimateSyntax@2024-03-31@19-02-05.mp4\" controls autoplay loop style=\"max-width: 75%;\"  >\n",
       "      Your browser does not support the <code>video</code> element.\n",
       "    </video>"
      ],
      "text/plain": [
       "<IPython.core.display.Video object>"
      ]
     },
     "metadata": {},
     "output_type": "display_data"
    }
   ],
   "source": [
    "%%manim -qm AnimateSyntax\n",
    "\n",
    "class AnimateSyntax(Scene):\n",
    "    def construct(self):\n",
    "        triangle = Triangle(color=RED, fill_opacity=1)\n",
    "        self.play(DrawBorderThenFill(triangle))\n",
    "        self.play(triangle.animate.shift(LEFT))\n",
    "        self.play(triangle.animate.shift(RIGHT).scale(2))\n",
    "        self.play(triangle.animate.rotate(PI/3))"
   ]
  },
  {
   "cell_type": "code",
   "execution_count": 22,
   "id": "cb0fff42-591e-4d90-8ec5-75b97c9da85b",
   "metadata": {
    "tags": []
   },
   "outputs": [
    {
     "name": "stderr",
     "output_type": "stream",
     "text": [
      "                                                                                                             \r"
     ]
    },
    {
     "data": {
      "text/html": [
       "<video src=\"media/jupyter/CircleAnnouncement@2024-03-31@19-03-00.mp4\" controls autoplay loop style=\"max-width: 75%;\"  >\n",
       "      Your browser does not support the <code>video</code> element.\n",
       "    </video>"
      ],
      "text/plain": [
       "<IPython.core.display.Video object>"
      ]
     },
     "metadata": {},
     "output_type": "display_data"
    }
   ],
   "source": [
    "%%manim -qm CircleAnnouncement\n",
    "\n",
    "class CircleAnnouncement(Scene):\n",
    "    def construct(self):\n",
    "        blue_circle = Circle(color=BLUE, fill_opacity=0.5)\n",
    "        announcement = Text(\"Let us draw a circle.\")\n",
    "        \n",
    "        self.play(Write(announcement))\n",
    "        self.wait()\n",
    "        \n",
    "        self.play(announcement.animate.next_to(blue_circle, UP, buff=0.5))\n",
    "        self.play(Create(blue_circle))"
   ]
  },
  {
   "cell_type": "code",
   "execution_count": 27,
   "id": "3f069b86-6556-4824-b2ca-6629b63617ce",
   "metadata": {
    "tags": []
   },
   "outputs": [],
   "source": [
    "# We constructed four nodes with range 4, and put them in a diamond configuration.\n",
    "# We also created weights for the lines that represented edges.\n",
    "# This is a mini demo of the famous travelling salesman problem.\n",
    "\n",
    "from manim import *\n",
    "\n",
    "class GraphScene(Scene):\n",
    "    def construct(self):\n",
    "        # Create nodes\n",
    "        nodes = [Dot() for _ in range(4)]\n",
    "        labels = [Tex(str(i)) for i in range(4)]\n",
    "        \n",
    "        # Position nodes\n",
    "        for i, node in enumerate(nodes):\n",
    "            node.move_to(2 * np.array([\n",
    "                np.cos(i * 2 * np.pi / 4),\n",
    "                np.sin(i * 2 * np.pi / 4),\n",
    "                0\n",
    "            ]))\n",
    "            labels[i].next_to(node, direction=DOWN)\n",
    "        \n",
    "        # Create lines representing edges\n",
    "        lines = VGroup()\n",
    "        weights = [2, 3, 4, 1, 5, 6]  # example weights for the edges\n",
    "        \n",
    "        for i in range(4):\n",
    "            for j in range(i + 1, 4):\n",
    "                line = Line(nodes[i].get_center(), nodes[j].get_center())\n",
    "                line_label = Tex(str(weights.pop(0)))\n",
    "                line_label.next_to(line, direction=UP)\n",
    "                lines.add(line, line_label)\n",
    "                \n",
    "        self.wait()\n",
    "        \n",
    "        # Add everything to the scene\n",
    "        self.add(*nodes, *labels)\n",
    "        self.play(Create(lines))"
   ]
  },
  {
   "cell_type": "code",
   "execution_count": 30,
   "id": "e02356c8-f0f2-4a85-afbd-caea968adec5",
   "metadata": {
    "tags": []
   },
   "outputs": [
    {
     "name": "stderr",
     "output_type": "stream",
     "text": [
      "                                                                                    \r"
     ]
    },
    {
     "data": {
      "text/html": [
       "<video src=\"media/jupyter/GraphScene@2024-03-31@19-07-56.mp4\" controls autoplay loop style=\"max-width: 75%;\"  >\n",
       "      Your browser does not support the <code>video</code> element.\n",
       "    </video>"
      ],
      "text/plain": [
       "<IPython.core.display.Video object>"
      ]
     },
     "metadata": {},
     "output_type": "display_data"
    }
   ],
   "source": [
    "%manim -qm GraphScene"
   ]
  }
 ],
 "metadata": {
  "kernelspec": {
   "display_name": "Python 3 (ipykernel)",
   "language": "python",
   "name": "python3"
  },
  "language_info": {
   "codemirror_mode": {
    "name": "ipython",
    "version": 3
   },
   "file_extension": ".py",
   "mimetype": "text/x-python",
   "name": "python",
   "nbconvert_exporter": "python",
   "pygments_lexer": "ipython3",
   "version": "3.8.18"
  }
 },
 "nbformat": 4,
 "nbformat_minor": 5
}
